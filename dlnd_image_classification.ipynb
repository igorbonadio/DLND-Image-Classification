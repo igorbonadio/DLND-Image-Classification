{
 "cells": [
  {
   "cell_type": "markdown",
   "metadata": {
    "collapsed": true
   },
   "source": [
    "# Image Classification\n",
    "In this project, you'll classify images from the [CIFAR-10 dataset](https://www.cs.toronto.edu/~kriz/cifar.html).  The dataset consists of airplanes, dogs, cats, and other objects. You'll preprocess the images, then train a convolutional neural network on all the samples. The images need to be normalized and the labels need to be one-hot encoded.  You'll get to apply what you learned and build a convolutional, max pooling, dropout, and fully connected layers.  At the end, you'll get to see your neural network's predictions on the sample images.\n",
    "## Get the Data\n",
    "Run the following cell to download the [CIFAR-10 dataset for python](https://www.cs.toronto.edu/~kriz/cifar-10-python.tar.gz)."
   ]
  },
  {
   "cell_type": "code",
   "execution_count": 1,
   "metadata": {},
   "outputs": [
    {
     "name": "stderr",
     "output_type": "stream",
     "text": [
      "CIFAR-10 Dataset: 171MB [01:24, 2.02MB/s]                              \n"
     ]
    },
    {
     "name": "stdout",
     "output_type": "stream",
     "text": [
      "All files found!\n"
     ]
    }
   ],
   "source": [
    "\"\"\"\n",
    "DON'T MODIFY ANYTHING IN THIS CELL THAT IS BELOW THIS LINE\n",
    "\"\"\"\n",
    "from urllib.request import urlretrieve\n",
    "from os.path import isfile, isdir\n",
    "from tqdm import tqdm\n",
    "import problem_unittests as tests\n",
    "import tarfile\n",
    "\n",
    "cifar10_dataset_folder_path = 'cifar-10-batches-py'\n",
    "\n",
    "# Use Floyd's cifar-10 dataset if present\n",
    "floyd_cifar10_location = '/input/cifar-10/python.tar.gz'\n",
    "if isfile(floyd_cifar10_location):\n",
    "    tar_gz_path = floyd_cifar10_location\n",
    "else:\n",
    "    tar_gz_path = 'cifar-10-python.tar.gz'\n",
    "\n",
    "class DLProgress(tqdm):\n",
    "    last_block = 0\n",
    "\n",
    "    def hook(self, block_num=1, block_size=1, total_size=None):\n",
    "        self.total = total_size\n",
    "        self.update((block_num - self.last_block) * block_size)\n",
    "        self.last_block = block_num\n",
    "\n",
    "if not isfile(tar_gz_path):\n",
    "    with DLProgress(unit='B', unit_scale=True, miniters=1, desc='CIFAR-10 Dataset') as pbar:\n",
    "        urlretrieve(\n",
    "            'https://www.cs.toronto.edu/~kriz/cifar-10-python.tar.gz',\n",
    "            tar_gz_path,\n",
    "            pbar.hook)\n",
    "\n",
    "if not isdir(cifar10_dataset_folder_path):\n",
    "    with tarfile.open(tar_gz_path) as tar:\n",
    "        tar.extractall()\n",
    "        tar.close()\n",
    "\n",
    "\n",
    "tests.test_folder_path(cifar10_dataset_folder_path)"
   ]
  },
  {
   "cell_type": "markdown",
   "metadata": {},
   "source": [
    "## Explore the Data\n",
    "The dataset is broken into batches to prevent your machine from running out of memory.  The CIFAR-10 dataset consists of 5 batches, named `data_batch_1`, `data_batch_2`, etc.. Each batch contains the labels and images that are one of the following:\n",
    "* airplane\n",
    "* automobile\n",
    "* bird\n",
    "* cat\n",
    "* deer\n",
    "* dog\n",
    "* frog\n",
    "* horse\n",
    "* ship\n",
    "* truck\n",
    "\n",
    "Understanding a dataset is part of making predictions on the data.  Play around with the code cell below by changing the `batch_id` and `sample_id`. The `batch_id` is the id for a batch (1-5). The `sample_id` is the id for a image and label pair in the batch.\n",
    "\n",
    "Ask yourself \"What are all possible labels?\", \"What is the range of values for the image data?\", \"Are the labels in order or random?\".  Answers to questions like these will help you preprocess the data and end up with better predictions."
   ]
  },
  {
   "cell_type": "code",
   "execution_count": 2,
   "metadata": {},
   "outputs": [
    {
     "name": "stdout",
     "output_type": "stream",
     "text": [
      "\n",
      "Stats of batch 1:\n",
      "Samples: 10000\n",
      "Label Counts: {0: 1005, 1: 974, 2: 1032, 3: 1016, 4: 999, 5: 937, 6: 1030, 7: 1001, 8: 1025, 9: 981}\n",
      "First 20 Labels: [6, 9, 9, 4, 1, 1, 2, 7, 8, 3, 4, 7, 7, 2, 9, 9, 9, 3, 2, 6]\n",
      "\n",
      "Example of Image 5:\n",
      "Image - Min Value: 0 Max Value: 252\n",
      "Image - Shape: (32, 32, 3)\n",
      "Label - Label Id: 1 Name: automobile\n"
     ]
    },
    {
     "data": {
      "image/png": "[encoded data removed]",
      "text/plain": [
       "<matplotlib.figure.Figure at 0x7f67c78986d8>"
      ]
     },
     "metadata": {
      "image/png": {
       "height": 250,
       "width": 253
      }
     },
     "output_type": "display_data"
    }
   ],
   "source": [
    "%matplotlib inline\n",
    "%config InlineBackend.figure_format = 'retina'\n",
    "\n",
    "import helper\n",
    "import numpy as np\n",
    "\n",
    "# Explore the dataset\n",
    "batch_id = 1\n",
    "sample_id = 5\n",
    "helper.display_stats(cifar10_dataset_folder_path, batch_id, sample_id)"
   ]
  },
  {
   "cell_type": "markdown",
   "metadata": {},
   "source": [
    "## Implement Preprocess Functions\n",
    "### Normalize\n",
    "In the cell below, implement the `normalize` function to take in image data, `x`, and return it as a normalized Numpy array. The values should be in the range of 0 to 1, inclusive.  The return object should be the same shape as `x`."
   ]
  },
  {
   "cell_type": "code",
   "execution_count": 3,
   "metadata": {},
   "outputs": [
    {
     "name": "stdout",
     "output_type": "stream",
     "text": [
      "Tests Passed\n"
     ]
    }
   ],
   "source": [
    "def normalize(x):\n",
    "    \"\"\"\n",
    "    Normalize a list of sample image data in the range of 0 to 1\n",
    "    : x: List of image data.  The image shape is (32, 32, 3)\n",
    "    : return: Numpy array of normalize data\n",
    "    \"\"\"\n",
    "    return x.astype(float) / 255.0\n",
    "\n",
    "\n",
    "\"\"\"\n",
    "DON'T MODIFY ANYTHING IN THIS CELL THAT IS BELOW THIS LINE\n",
    "\"\"\"\n",
    "tests.test_normalize(normalize)"
   ]
  },
  {
   "cell_type": "markdown",
   "metadata": {},
   "source": [
    "### One-hot encode\n",
    "Just like the previous code cell, you'll be implementing a function for preprocessing.  This time, you'll implement the `one_hot_encode` function. The input, `x`, are a list of labels.  Implement the function to return the list of labels as One-Hot encoded Numpy array.  The possible values for labels are 0 to 9. The one-hot encoding function should return the same encoding for each value between each call to `one_hot_encode`.  Make sure to save the map of encodings outside the function.\n",
    "\n",
    "Hint: Don't reinvent the wheel."
   ]
  },
  {
   "cell_type": "code",
   "execution_count": 4,
   "metadata": {},
   "outputs": [
    {
     "name": "stdout",
     "output_type": "stream",
     "text": [
      "Tests Passed\n"
     ]
    }
   ],
   "source": [
    "def one_hot_encode(x):\n",
    "    \"\"\"\n",
    "    One hot encode a list of sample labels. Return a one-hot encoded vector for each label.\n",
    "    : x: List of sample Labels\n",
    "    : return: Numpy array of one-hot encoded labels\n",
    "    \"\"\"\n",
    "    return np.eye(10)[x]\n",
    "\n",
    "\n",
    "\"\"\"\n",
    "DON'T MODIFY ANYTHING IN THIS CELL THAT IS BELOW THIS LINE\n",
    "\"\"\"\n",
    "tests.test_one_hot_encode(one_hot_encode)"
   ]
  },
  {
   "cell_type": "markdown",
   "metadata": {},
   "source": [
    "### Randomize Data\n",
    "As you saw from exploring the data above, the order of the samples are randomized.  It doesn't hurt to randomize it again, but you don't need to for this dataset."
   ]
  },
  {
   "cell_type": "markdown",
   "metadata": {},
   "source": [
    "## Preprocess all the data and save it\n",
    "Running the code cell below will preprocess all the CIFAR-10 data and save it to file. The code below also uses 10% of the training data for validation."
   ]
  },
  {
   "cell_type": "code",
   "execution_count": 5,
   "metadata": {
    "collapsed": true
   },
   "outputs": [],
   "source": [
    "\"\"\"\n",
    "DON'T MODIFY ANYTHING IN THIS CELL\n",
    "\"\"\"\n",
    "# Preprocess Training, Validation, and Testing Data\n",
    "helper.preprocess_and_save_data(cifar10_dataset_folder_path, normalize, one_hot_encode)"
   ]
  },
  {
   "cell_type": "markdown",
   "metadata": {},
   "source": [
    "# Check Point\n",
    "This is your first checkpoint.  If you ever decide to come back to this notebook or have to restart the notebook, you can start from here.  The preprocessed data has been saved to disk."
   ]
  },
  {
   "cell_type": "code",
   "execution_count": 6,
   "metadata": {
    "collapsed": true
   },
   "outputs": [],
   "source": [
    "\"\"\"\n",
    "DON'T MODIFY ANYTHING IN THIS CELL\n",
    "\"\"\"\n",
    "import pickle\n",
    "import problem_unittests as tests\n",
    "import helper\n",
    "\n",
    "# Load the Preprocessed Validation data\n",
    "valid_features, valid_labels = pickle.load(open('preprocess_validation.p', mode='rb'))"
   ]
  },
  {
   "cell_type": "markdown",
   "metadata": {},
   "source": [
    "## Build the network\n",
    "For the neural network, you'll build each layer into a function.  Most of the code you've seen has been outside of functions. To test your code more thoroughly, we require that you put each layer in a function.  This allows us to give you better feedback and test for simple mistakes using our unittests before you submit your project.\n",
    "\n",
    ">**Note:** If you're finding it hard to dedicate enough time for this course each week, we've provided a small shortcut to this part of the project. In the next couple of problems, you'll have the option to use classes from the [TensorFlow Layers](https://www.tensorflow.org/api_docs/python/tf/layers) or [TensorFlow Layers (contrib)](https://www.tensorflow.org/api_guides/python/contrib.layers) packages to build each layer, except the layers you build in the \"Convolutional and Max Pooling Layer\" section.  TF Layers is similar to Keras's and TFLearn's abstraction to layers, so it's easy to pickup.\n",
    "\n",
    ">However, if you would like to get the most out of this course, try to solve all the problems _without_ using anything from the TF Layers packages. You **can** still use classes from other packages that happen to have the same name as ones you find in TF Layers! For example, instead of using the TF Layers version of the `conv2d` class, [tf.layers.conv2d](https://www.tensorflow.org/api_docs/python/tf/layers/conv2d), you would want to use the TF Neural Network version of `conv2d`, [tf.nn.conv2d](https://www.tensorflow.org/api_docs/python/tf/nn/conv2d). \n",
    "\n",
    "Let's begin!\n",
    "\n",
    "### Input\n",
    "The neural network needs to read the image data, one-hot encoded labels, and dropout keep probability. Implement the following functions\n",
    "* Implement `neural_net_image_input`\n",
    " * Return a [TF Placeholder](https://www.tensorflow.org/api_docs/python/tf/placeholder)\n",
    " * Set the shape using `image_shape` with batch size set to `None`.\n",
    " * Name the TensorFlow placeholder \"x\" using the TensorFlow `name` parameter in the [TF Placeholder](https://www.tensorflow.org/api_docs/python/tf/placeholder).\n",
    "* Implement `neural_net_label_input`\n",
    " * Return a [TF Placeholder](https://www.tensorflow.org/api_docs/python/tf/placeholder)\n",
    " * Set the shape using `n_classes` with batch size set to `None`.\n",
    " * Name the TensorFlow placeholder \"y\" using the TensorFlow `name` parameter in the [TF Placeholder](https://www.tensorflow.org/api_docs/python/tf/placeholder).\n",
    "* Implement `neural_net_keep_prob_input`\n",
    " * Return a [TF Placeholder](https://www.tensorflow.org/api_docs/python/tf/placeholder) for dropout keep probability.\n",
    " * Name the TensorFlow placeholder \"keep_prob\" using the TensorFlow `name` parameter in the [TF Placeholder](https://www.tensorflow.org/api_docs/python/tf/placeholder).\n",
    "\n",
    "These names will be used at the end of the project to load your saved model.\n",
    "\n",
    "Note: `None` for shapes in TensorFlow allow for a dynamic size."
   ]
  },
  {
   "cell_type": "code",
   "execution_count": 7,
   "metadata": {},
   "outputs": [
    {
     "name": "stdout",
     "output_type": "stream",
     "text": [
      "Image Input Tests Passed.\n",
      "Label Input Tests Passed.\n",
      "Keep Prob Tests Passed.\n"
     ]
    }
   ],
   "source": [
    "import tensorflow as tf\n",
    "\n",
    "def neural_net_image_input(image_shape):\n",
    "    \"\"\"\n",
    "    Return a Tensor for a bach of image input\n",
    "    : image_shape: Shape of the images\n",
    "    : return: Tensor for image input.\n",
    "    \"\"\"\n",
    "    return tf.placeholder(tf.float32, shape=(None, *image_shape), name='x')\n",
    "\n",
    "\n",
    "def neural_net_label_input(n_classes):\n",
    "    \"\"\"\n",
    "    Return a Tensor for a batch of label input\n",
    "    : n_classes: Number of classes\n",
    "    : return: Tensor for label input.\n",
    "    \"\"\"\n",
    "    return tf.placeholder(tf.float32, shape=(None, n_classes), name='y')\n",
    "\n",
    "\n",
    "def neural_net_keep_prob_input():\n",
    "    \"\"\"\n",
    "    Return a Tensor for keep probability\n",
    "    : return: Tensor for keep probability.\n",
    "    \"\"\"\n",
    "    return tf.placeholder(tf.float32, name='keep_prob')\n",
    "\n",
    "\n",
    "\"\"\"\n",
    "DON'T MODIFY ANYTHING IN THIS CELL THAT IS BELOW THIS LINE\n",
    "\"\"\"\n",
    "tf.reset_default_graph()\n",
    "tests.test_nn_image_inputs(neural_net_image_input)\n",
    "tests.test_nn_label_inputs(neural_net_label_input)\n",
    "tests.test_nn_keep_prob_inputs(neural_net_keep_prob_input)"
   ]
  },
  {
   "cell_type": "markdown",
   "metadata": {},
   "source": [
    "### Convolution and Max Pooling Layer\n",
    "Convolution layers have a lot of success with images. For this code cell, you should implement the function `conv2d_maxpool` to apply convolution then max pooling:\n",
    "* Create the weight and bias using `conv_ksize`, `conv_num_outputs` and the shape of `x_tensor`.\n",
    "* Apply a convolution to `x_tensor` using weight and `conv_strides`.\n",
    " * We recommend you use same padding, but you're welcome to use any padding.\n",
    "* Add bias\n",
    "* Add a nonlinear activation to the convolution.\n",
    "* Apply Max Pooling using `pool_ksize` and `pool_strides`.\n",
    " * We recommend you use same padding, but you're welcome to use any padding.\n",
    "\n",
    "**Note:** You **can't** use [TensorFlow Layers](https://www.tensorflow.org/api_docs/python/tf/layers) or [TensorFlow Layers (contrib)](https://www.tensorflow.org/api_guides/python/contrib.layers) for **this** layer, but you can still use TensorFlow's [Neural Network](https://www.tensorflow.org/api_docs/python/tf/nn) package. You may still use the shortcut option for all the **other** layers."
   ]
  },
  {
   "cell_type": "code",
   "execution_count": 28,
   "metadata": {},
   "outputs": [
    {
     "name": "stdout",
     "output_type": "stream",
     "text": [
      "Tests Passed\n"
     ]
    }
   ],
   "source": [
    "def conv2d_maxpool(x_tensor, conv_num_outputs, conv_ksize, conv_strides, pool_ksize, pool_strides):\n",
    "    \"\"\"\n",
    "    Apply convolution then max pooling to x_tensor\n",
    "    :param x_tensor: TensorFlow Tensor\n",
    "    :param conv_num_outputs: Number of outputs for the convolutional layer\n",
    "    :param conv_ksize: kernal size 2-D Tuple for the convolutional layer\n",
    "    :param conv_strides: Stride 2-D Tuple for convolution\n",
    "    :param pool_ksize: kernal size 2-D Tuple for pool\n",
    "    :param pool_strides: Stride 2-D Tuple for pool\n",
    "    : return: A tensor that represents convolution and max pooling of x_tensor\n",
    "    \"\"\"\n",
    "    weights = tf.Variable(tf.truncated_normal([*conv_ksize, x_tensor.get_shape().as_list()[3], conv_num_outputs], stddev=0.001))\n",
    "    bias = tf.Variable(tf.zeros([conv_num_outputs]))\n",
    "    conv = tf.nn.bias_add(tf.nn.conv2d(x_tensor, weights, [1, *conv_strides, 1], \"SAME\"), bias)\n",
    "    out_conv = tf.nn.relu(conv)\n",
    "    maxpool = tf.nn.max_pool(out_conv, [1, *pool_ksize, 1], [1, *pool_strides, 1], \"SAME\")\n",
    "    return maxpool\n",
    "\n",
    "\n",
    "\"\"\"\n",
    "DON'T MODIFY ANYTHING IN THIS CELL THAT IS BELOW THIS LINE\n",
    "\"\"\"\n",
    "tests.test_con_pool(conv2d_maxpool)"
   ]
  },
  {
   "cell_type": "markdown",
   "metadata": {},
   "source": [
    "### Flatten Layer\n",
    "Implement the `flatten` function to change the dimension of `x_tensor` from a 4-D tensor to a 2-D tensor.  The output should be the shape (*Batch Size*, *Flattened Image Size*). Shortcut option: you can use classes from the [TensorFlow Layers](https://www.tensorflow.org/api_docs/python/tf/layers) or [TensorFlow Layers (contrib)](https://www.tensorflow.org/api_guides/python/contrib.layers) packages for this layer. For more of a challenge, only use other TensorFlow packages."
   ]
  },
  {
   "cell_type": "code",
   "execution_count": 29,
   "metadata": {},
   "outputs": [
    {
     "name": "stdout",
     "output_type": "stream",
     "text": [
      "Tests Passed\n"
     ]
    }
   ],
   "source": [
    "def flatten(x_tensor):\n",
    "    \"\"\"\n",
    "    Flatten x_tensor to (Batch Size, Flattened Image Size)\n",
    "    : x_tensor: A tensor of size (Batch Size, ...), where ... are the image dimensions.\n",
    "    : return: A tensor of size (Batch Size, Flattened Image Size).\n",
    "    \"\"\"\n",
    "    s = x_tensor.get_shape().as_list()\n",
    "    return tf.reshape(x_tensor, [tf.shape(x_tensor)[0], s[1]*s[2]*s[3]])\n",
    "\n",
    "\n",
    "\"\"\"\n",
    "DON'T MODIFY ANYTHING IN THIS CELL THAT IS BELOW THIS LINE\n",
    "\"\"\"\n",
    "tests.test_flatten(flatten)"
   ]
  },
  {
   "cell_type": "markdown",
   "metadata": {},
   "source": [
    "### Fully-Connected Layer\n",
    "Implement the `fully_conn` function to apply a fully connected layer to `x_tensor` with the shape (*Batch Size*, *num_outputs*). Shortcut option: you can use classes from the [TensorFlow Layers](https://www.tensorflow.org/api_docs/python/tf/layers) or [TensorFlow Layers (contrib)](https://www.tensorflow.org/api_guides/python/contrib.layers) packages for this layer. For more of a challenge, only use other TensorFlow packages."
   ]
  },
  {
   "cell_type": "code",
   "execution_count": 30,
   "metadata": {},
   "outputs": [
    {
     "name": "stdout",
     "output_type": "stream",
     "text": [
      "Tests Passed\n"
     ]
    }
   ],
   "source": [
    "def fully_conn(x_tensor, num_outputs):\n",
    "    \"\"\"\n",
    "    Apply a fully connected layer to x_tensor using weight and bias\n",
    "    : x_tensor: A 2-D tensor where the first dimension is batch size.\n",
    "    : num_outputs: The number of output that the new tensor should be.\n",
    "    : return: A 2-D tensor where the second dimension is num_outputs.\n",
    "    \"\"\"\n",
    "    weigths = tf.Variable(tf.truncated_normal([x_tensor.get_shape()[1].value, num_outputs], stddev=0.01))\n",
    "    bias = tf.Variable(tf.zeros([num_outputs]))\n",
    "    return tf.nn.relu(tf.add(tf.matmul(x_tensor, weigths), bias))\n",
    "\n",
    "\n",
    "\"\"\"\n",
    "DON'T MODIFY ANYTHING IN THIS CELL THAT IS BELOW THIS LINE\n",
    "\"\"\"\n",
    "tests.test_fully_conn(fully_conn)"
   ]
  },
  {
   "cell_type": "markdown",
   "metadata": {},
   "source": [
    "### Output Layer\n",
    "Implement the `output` function to apply a fully connected layer to `x_tensor` with the shape (*Batch Size*, *num_outputs*). Shortcut option: you can use classes from the [TensorFlow Layers](https://www.tensorflow.org/api_docs/python/tf/layers) or [TensorFlow Layers (contrib)](https://www.tensorflow.org/api_guides/python/contrib.layers) packages for this layer. For more of a challenge, only use other TensorFlow packages.\n",
    "\n",
    "**Note:** Activation, softmax, or cross entropy should **not** be applied to this."
   ]
  },
  {
   "cell_type": "code",
   "execution_count": 31,
   "metadata": {},
   "outputs": [
    {
     "name": "stdout",
     "output_type": "stream",
     "text": [
      "Tests Passed\n"
     ]
    }
   ],
   "source": [
    "def output(x_tensor, num_outputs):\n",
    "    \"\"\"\n",
    "    Apply a output layer to x_tensor using weight and bias\n",
    "    : x_tensor: A 2-D tensor where the first dimension is batch size.\n",
    "    : num_outputs: The number of output that the new tensor should be.\n",
    "    : return: A 2-D tensor where the second dimension is num_outputs.\n",
    "    \"\"\"\n",
    "    # TODO: Implement Function\n",
    "    dim_input = x_tensor.get_shape().as_list()[1]\n",
    "    W = tf.Variable(tf.truncated_normal([dim_input, num_outputs], stddev=0.01))\n",
    "    b = tf.Variable(tf.zeros([num_outputs]))\n",
    "    return tf.add(tf.matmul(x_tensor, W), b)\n",
    "\n",
    "\n",
    "\"\"\"\n",
    "DON'T MODIFY ANYTHING IN THIS CELL THAT IS BELOW THIS LINE\n",
    "\"\"\"\n",
    "tests.test_output(output)"
   ]
  },
  {
   "cell_type": "markdown",
   "metadata": {},
   "source": [
    "### Create Convolutional Model\n",
    "Implement the function `conv_net` to create a convolutional neural network model. The function takes in a batch of images, `x`, and outputs logits.  Use the layers you created above to create this model:\n",
    "\n",
    "* Apply 1, 2, or 3 Convolution and Max Pool layers\n",
    "* Apply a Flatten Layer\n",
    "* Apply 1, 2, or 3 Fully Connected Layers\n",
    "* Apply an Output Layer\n",
    "* Return the output\n",
    "* Apply [TensorFlow's Dropout](https://www.tensorflow.org/api_docs/python/tf/nn/dropout) to one or more layers in the model using `keep_prob`. "
   ]
  },
  {
   "cell_type": "code",
   "execution_count": 32,
   "metadata": {},
   "outputs": [
    {
     "name": "stdout",
     "output_type": "stream",
     "text": [
      "Neural Network Built!\n"
     ]
    }
   ],
   "source": [
    "def conv_net(x, keep_prob):\n",
    "    \"\"\"\n",
    "    Create a convolutional neural network model\n",
    "    : x: Placeholder tensor that holds image data.\n",
    "    : keep_prob: Placeholder tensor that hold dropout keep probability.\n",
    "    : return: Tensor that represents logits\n",
    "    \"\"\"\n",
    "    # TODO: Apply 1, 2, or 3 Convolution and Max Pool layers\n",
    "    #    Play around with different number of outputs, kernel size and stride\n",
    "    # Function Definition from Above:\n",
    "    #    conv2d_maxpool(x_tensor, conv_num_outputs, conv_ksize, conv_strides, pool_ksize, pool_strides)\n",
    "    conv = conv2d_maxpool(x, 32, (3, 3), (1, 1), (2, 2), (1, 1))\n",
    "    conv = tf.nn.dropout(conv, keep_prob)\n",
    "    conv = conv2d_maxpool(conv, 64, (5, 5), (1, 1), (3, 3), (2, 2))\n",
    "    conv = tf.nn.dropout(conv, keep_prob)\n",
    "\n",
    "    # TODO: Apply a Flatten Layer\n",
    "    # Function Definition from Above:\n",
    "    #   flatten(x_tensor)\n",
    "    flat = flatten(conv)\n",
    "\n",
    "    # TODO: Apply 1, 2, or 3 Fully Connected Layers\n",
    "    #    Play around with different number of outputs\n",
    "    # Function Definition from Above:\n",
    "    #   fully_conn(x_tensor, num_outputs)\n",
    "    full = fully_conn(flat, 512)\n",
    "    full =  tf.nn.dropout(full, keep_prob)\n",
    "    \n",
    "    # TODO: Apply an Output Layer\n",
    "    #    Set this to the number of classes\n",
    "    # Function Definition from Above:\n",
    "    #   output(x_tensor, num_outputs)\n",
    "    out = output(full, 10)\n",
    "    \n",
    "    # TODO: return output\n",
    "    return out\n",
    "\n",
    "\n",
    "\"\"\"\n",
    "DON'T MODIFY ANYTHING IN THIS CELL THAT IS BELOW THIS LINE\n",
    "\"\"\"\n",
    "\n",
    "##############################\n",
    "## Build the Neural Network ##\n",
    "##############################\n",
    "\n",
    "# Remove previous weights, bias, inputs, etc..\n",
    "tf.reset_default_graph()\n",
    "\n",
    "# Inputs\n",
    "x = neural_net_image_input((32, 32, 3))\n",
    "y = neural_net_label_input(10)\n",
    "keep_prob = neural_net_keep_prob_input()\n",
    "\n",
    "# Model\n",
    "logits = conv_net(x, keep_prob)\n",
    "\n",
    "# Name logits Tensor, so that is can be loaded from disk after training\n",
    "logits = tf.identity(logits, name='logits')\n",
    "\n",
    "# Loss and Optimizer\n",
    "cost = tf.reduce_mean(tf.nn.softmax_cross_entropy_with_logits(logits=logits, labels=y))\n",
    "optimizer = tf.train.AdamOptimizer().minimize(cost)\n",
    "\n",
    "# Accuracy\n",
    "correct_pred = tf.equal(tf.argmax(logits, 1), tf.argmax(y, 1))\n",
    "accuracy = tf.reduce_mean(tf.cast(correct_pred, tf.float32), name='accuracy')\n",
    "\n",
    "tests.test_conv_net(conv_net)"
   ]
  },
  {
   "cell_type": "markdown",
   "metadata": {},
   "source": [
    "## Train the Neural Network\n",
    "### Single Optimization\n",
    "Implement the function `train_neural_network` to do a single optimization.  The optimization should use `optimizer` to optimize in `session` with a `feed_dict` of the following:\n",
    "* `x` for image input\n",
    "* `y` for labels\n",
    "* `keep_prob` for keep probability for dropout\n",
    "\n",
    "This function will be called for each batch, so `tf.global_variables_initializer()` has already been called.\n",
    "\n",
    "Note: Nothing needs to be returned. This function is only optimizing the neural network."
   ]
  },
  {
   "cell_type": "code",
   "execution_count": 33,
   "metadata": {},
   "outputs": [
    {
     "name": "stdout",
     "output_type": "stream",
     "text": [
      "Tests Passed\n"
     ]
    }
   ],
   "source": [
    "def train_neural_network(session, optimizer, keep_probability, feature_batch, label_batch):\n",
    "    \"\"\"\n",
    "    Optimize the session on a batch of images and labels\n",
    "    : session: Current TensorFlow session\n",
    "    : optimizer: TensorFlow optimizer function\n",
    "    : keep_probability: keep probability\n",
    "    : feature_batch: Batch of Numpy image data\n",
    "    : label_batch: Batch of Numpy label data\n",
    "    \"\"\"\n",
    "    # TODO: Implement Function\n",
    "    session.run(optimizer, feed_dict={x: feature_batch, y: label_batch, keep_prob: keep_probability})\n",
    "\n",
    "\n",
    "\"\"\"\n",
    "DON'T MODIFY ANYTHING IN THIS CELL THAT IS BELOW THIS LINE\n",
    "\"\"\"\n",
    "tests.test_train_nn(train_neural_network)"
   ]
  },
  {
   "cell_type": "markdown",
   "metadata": {},
   "source": [
    "### Show Stats\n",
    "Implement the function `print_stats` to print loss and validation accuracy.  Use the global variables `valid_features` and `valid_labels` to calculate validation accuracy.  Use a keep probability of `1.0` to calculate the loss and validation accuracy."
   ]
  },
  {
   "cell_type": "code",
   "execution_count": 34,
   "metadata": {
    "collapsed": true
   },
   "outputs": [],
   "source": [
    "def print_stats(session, feature_batch, label_batch, cost, accuracy):\n",
    "    \"\"\"\n",
    "    Print information about loss and validation accuracy\n",
    "    : session: Current TensorFlow session\n",
    "    : feature_batch: Batch of Numpy image data\n",
    "    : label_batch: Batch of Numpy label data\n",
    "    : cost: TensorFlow cost function\n",
    "    : accuracy: TensorFlow accuracy function\n",
    "    \"\"\"\n",
    "    cost_value = sess.run(cost, feed_dict = {x: feature_batch, y: label_batch, keep_prob: 1.0})\n",
    "    accuracy_value = session.run(accuracy, feed_dict = {x: valid_features, y: valid_labels, keep_prob:1.0})\n",
    "    print('loss:', cost_value, 'accuracy:', accuracy_value)"
   ]
  },
  {
   "cell_type": "markdown",
   "metadata": {},
   "source": [
    "### Hyperparameters\n",
    "Tune the following parameters:\n",
    "* Set `epochs` to the number of iterations until the network stops learning or start overfitting\n",
    "* Set `batch_size` to the highest number that your machine has memory for.  Most people set them to common sizes of memory:\n",
    " * 64\n",
    " * 128\n",
    " * 256\n",
    " * ...\n",
    "* Set `keep_probability` to the probability of keeping a node using dropout"
   ]
  },
  {
   "cell_type": "code",
   "execution_count": 35,
   "metadata": {
    "collapsed": true
   },
   "outputs": [],
   "source": [
    "# TODO: Tune Parameters\n",
    "epochs = 40\n",
    "batch_size = 256\n",
    "keep_probability = 0.6"
   ]
  },
  {
   "cell_type": "markdown",
   "metadata": {},
   "source": [
    "### Train on a Single CIFAR-10 Batch\n",
    "Instead of training the neural network on all the CIFAR-10 batches of data, let's use a single batch. This should save time while you iterate on the model to get a better accuracy.  Once the final validation accuracy is 50% or greater, run the model on all the data in the next section."
   ]
  },
  {
   "cell_type": "code",
   "execution_count": 36,
   "metadata": {},
   "outputs": [
    {
     "name": "stdout",
     "output_type": "stream",
     "text": [
      "Checking the Training on a Single Batch...\n",
      "Epoch  1, CIFAR-10 Batch 1:  loss: 2.21691 accuracy: 0.2662\n",
      "Epoch  2, CIFAR-10 Batch 1:  loss: 2.1305 accuracy: 0.289\n",
      "Epoch  3, CIFAR-10 Batch 1:  loss: 2.0827 accuracy: 0.326\n",
      "Epoch  4, CIFAR-10 Batch 1:  loss: 1.97301 accuracy: 0.3536\n",
      "Epoch  5, CIFAR-10 Batch 1:  loss: 1.87649 accuracy: 0.3846\n",
      "Epoch  6, CIFAR-10 Batch 1:  loss: 1.7351 accuracy: 0.3886\n",
      "Epoch  7, CIFAR-10 Batch 1:  loss: 1.5744 accuracy: 0.3982\n",
      "Epoch  8, CIFAR-10 Batch 1:  loss: 1.46781 accuracy: 0.4166\n",
      "Epoch  9, CIFAR-10 Batch 1:  loss: 1.40538 accuracy: 0.4178\n",
      "Epoch 10, CIFAR-10 Batch 1:  loss: 1.37107 accuracy: 0.4364\n",
      "Epoch 11, CIFAR-10 Batch 1:  loss: 1.30695 accuracy: 0.4094\n",
      "Epoch 12, CIFAR-10 Batch 1:  loss: 1.15688 accuracy: 0.445\n",
      "Epoch 13, CIFAR-10 Batch 1:  loss: 1.12875 accuracy: 0.425\n",
      "Epoch 14, CIFAR-10 Batch 1:  loss: 1.0901 accuracy: 0.438\n",
      "Epoch 15, CIFAR-10 Batch 1:  loss: 0.94062 accuracy: 0.468\n",
      "Epoch 16, CIFAR-10 Batch 1:  loss: 0.877963 accuracy: 0.4776\n",
      "Epoch 17, CIFAR-10 Batch 1:  loss: 0.833173 accuracy: 0.4812\n",
      "Epoch 18, CIFAR-10 Batch 1:  loss: 0.794888 accuracy: 0.4922\n",
      "Epoch 19, CIFAR-10 Batch 1:  loss: 0.749666 accuracy: 0.4774\n",
      "Epoch 20, CIFAR-10 Batch 1:  loss: 0.676694 accuracy: 0.4812\n",
      "Epoch 21, CIFAR-10 Batch 1:  loss: 0.640453 accuracy: 0.4672\n",
      "Epoch 22, CIFAR-10 Batch 1:  loss: 0.56403 accuracy: 0.492\n",
      "Epoch 23, CIFAR-10 Batch 1:  loss: 0.529033 accuracy: 0.484\n",
      "Epoch 24, CIFAR-10 Batch 1:  loss: 0.525751 accuracy: 0.472\n",
      "Epoch 25, CIFAR-10 Batch 1:  loss: 0.449488 accuracy: 0.5054\n",
      "Epoch 26, CIFAR-10 Batch 1:  loss: 0.395842 accuracy: 0.4958\n",
      "Epoch 27, CIFAR-10 Batch 1:  loss: 0.375258 accuracy: 0.4992\n",
      "Epoch 28, CIFAR-10 Batch 1:  loss: 0.30277 accuracy: 0.5228\n",
      "Epoch 29, CIFAR-10 Batch 1:  loss: 0.322365 accuracy: 0.5154\n",
      "Epoch 30, CIFAR-10 Batch 1:  loss: 0.30763 accuracy: 0.5074\n",
      "Epoch 31, CIFAR-10 Batch 1:  loss: 0.289641 accuracy: 0.5136\n",
      "Epoch 32, CIFAR-10 Batch 1:  loss: 0.228608 accuracy: 0.5194\n",
      "Epoch 33, CIFAR-10 Batch 1:  loss: 0.225004 accuracy: 0.5184\n",
      "Epoch 34, CIFAR-10 Batch 1:  loss: 0.187031 accuracy: 0.5198\n",
      "Epoch 35, CIFAR-10 Batch 1:  loss: 0.209594 accuracy: 0.507\n",
      "Epoch 36, CIFAR-10 Batch 1:  loss: 0.178323 accuracy: 0.5072\n",
      "Epoch 37, CIFAR-10 Batch 1:  loss: 0.157188 accuracy: 0.5194\n",
      "Epoch 38, CIFAR-10 Batch 1:  loss: 0.141638 accuracy: 0.5084\n",
      "Epoch 39, CIFAR-10 Batch 1:  loss: 0.13195 accuracy: 0.5186\n",
      "Epoch 40, CIFAR-10 Batch 1:  loss: 0.127654 accuracy: 0.5166\n"
     ]
    }
   ],
   "source": [
    "\"\"\"\n",
    "DON'T MODIFY ANYTHING IN THIS CELL\n",
    "\"\"\"\n",
    "print('Checking the Training on a Single Batch...')\n",
    "with tf.Session() as sess:\n",
    "    # Initializing the variables\n",
    "    sess.run(tf.global_variables_initializer())\n",
    "    \n",
    "    # Training cycle\n",
    "    for epoch in range(epochs):\n",
    "        batch_i = 1\n",
    "        for batch_features, batch_labels in helper.load_preprocess_training_batch(batch_i, batch_size):\n",
    "            train_neural_network(sess, optimizer, keep_probability, batch_features, batch_labels)\n",
    "        print('Epoch {:>2}, CIFAR-10 Batch {}:  '.format(epoch + 1, batch_i), end='')\n",
    "        print_stats(sess, batch_features, batch_labels, cost, accuracy)"
   ]
  },
  {
   "cell_type": "markdown",
   "metadata": {},
   "source": [
    "### Fully Train the Model\n",
    "Now that you got a good accuracy with a single CIFAR-10 batch, try it with all five batches."
   ]
  },
  {
   "cell_type": "code",
   "execution_count": 37,
   "metadata": {},
   "outputs": [
    {
     "name": "stdout",
     "output_type": "stream",
     "text": [
      "Training...\n",
      "Epoch  1, CIFAR-10 Batch 1:  loss: 2.19928 accuracy: 0.2164\n",
      "Epoch  1, CIFAR-10 Batch 2:  loss: 2.03478 accuracy: 0.286\n",
      "Epoch  1, CIFAR-10 Batch 3:  loss: 1.69716 accuracy: 0.309\n",
      "Epoch  1, CIFAR-10 Batch 4:  loss: 1.81508 accuracy: 0.3158\n",
      "Epoch  1, CIFAR-10 Batch 5:  loss: 2.0461 accuracy: 0.3486\n",
      "Epoch  2, CIFAR-10 Batch 1:  loss: 2.05054 accuracy: 0.377\n",
      "Epoch  2, CIFAR-10 Batch 2:  loss: 1.79227 accuracy: 0.3864\n",
      "Epoch  2, CIFAR-10 Batch 3:  loss: 1.40825 accuracy: 0.3918\n",
      "Epoch  2, CIFAR-10 Batch 4:  loss: 1.64357 accuracy: 0.3712\n",
      "Epoch  2, CIFAR-10 Batch 5:  loss: 1.6962 accuracy: 0.4266\n",
      "Epoch  3, CIFAR-10 Batch 1:  loss: 1.76294 accuracy: 0.4444\n",
      "Epoch  3, CIFAR-10 Batch 2:  loss: 1.52861 accuracy: 0.453\n",
      "Epoch  3, CIFAR-10 Batch 3:  loss: 1.23078 accuracy: 0.448\n",
      "Epoch  3, CIFAR-10 Batch 4:  loss: 1.39858 accuracy: 0.4526\n",
      "Epoch  3, CIFAR-10 Batch 5:  loss: 1.49666 accuracy: 0.4762\n",
      "Epoch  4, CIFAR-10 Batch 1:  loss: 1.58139 accuracy: 0.4784\n",
      "Epoch  4, CIFAR-10 Batch 2:  loss: 1.39287 accuracy: 0.4786\n",
      "Epoch  4, CIFAR-10 Batch 3:  loss: 1.0696 accuracy: 0.4796\n",
      "Epoch  4, CIFAR-10 Batch 4:  loss: 1.34388 accuracy: 0.4908\n",
      "Epoch  4, CIFAR-10 Batch 5:  loss: 1.37833 accuracy: 0.488\n",
      "Epoch  5, CIFAR-10 Batch 1:  loss: 1.40219 accuracy: 0.4848\n",
      "Epoch  5, CIFAR-10 Batch 2:  loss: 1.28288 accuracy: 0.5022\n",
      "Epoch  5, CIFAR-10 Batch 3:  loss: 1.01154 accuracy: 0.499\n",
      "Epoch  5, CIFAR-10 Batch 4:  loss: 1.24192 accuracy: 0.503\n",
      "Epoch  5, CIFAR-10 Batch 5:  loss: 1.30224 accuracy: 0.5166\n",
      "Epoch  6, CIFAR-10 Batch 1:  loss: 1.34368 accuracy: 0.515\n",
      "Epoch  6, CIFAR-10 Batch 2:  loss: 1.10849 accuracy: 0.521\n",
      "Epoch  6, CIFAR-10 Batch 3:  loss: 0.889813 accuracy: 0.5178\n",
      "Epoch  6, CIFAR-10 Batch 4:  loss: 1.17437 accuracy: 0.5292\n",
      "Epoch  6, CIFAR-10 Batch 5:  loss: 1.21936 accuracy: 0.5278\n",
      "Epoch  7, CIFAR-10 Batch 1:  loss: 1.23823 accuracy: 0.5222\n",
      "Epoch  7, CIFAR-10 Batch 2:  loss: 1.00366 accuracy: 0.5364\n",
      "Epoch  7, CIFAR-10 Batch 3:  loss: 0.822398 accuracy: 0.5356\n",
      "Epoch  7, CIFAR-10 Batch 4:  loss: 1.03659 accuracy: 0.536\n",
      "Epoch  7, CIFAR-10 Batch 5:  loss: 1.0873 accuracy: 0.5434\n",
      "Epoch  8, CIFAR-10 Batch 1:  loss: 1.0653 accuracy: 0.5196\n",
      "Epoch  8, CIFAR-10 Batch 2:  loss: 0.93048 accuracy: 0.5532\n",
      "Epoch  8, CIFAR-10 Batch 3:  loss: 0.782414 accuracy: 0.5472\n",
      "Epoch  8, CIFAR-10 Batch 4:  loss: 0.994569 accuracy: 0.5548\n",
      "Epoch  8, CIFAR-10 Batch 5:  loss: 1.00455 accuracy: 0.5582\n",
      "Epoch  9, CIFAR-10 Batch 1:  loss: 1.01183 accuracy: 0.5454\n",
      "Epoch  9, CIFAR-10 Batch 2:  loss: 0.833487 accuracy: 0.5612\n",
      "Epoch  9, CIFAR-10 Batch 3:  loss: 0.674568 accuracy: 0.5646\n",
      "Epoch  9, CIFAR-10 Batch 4:  loss: 0.878883 accuracy: 0.5654\n",
      "Epoch  9, CIFAR-10 Batch 5:  loss: 0.897627 accuracy: 0.5592\n",
      "Epoch 10, CIFAR-10 Batch 1:  loss: 0.901006 accuracy: 0.563\n",
      "Epoch 10, CIFAR-10 Batch 2:  loss: 0.772086 accuracy: 0.579\n",
      "Epoch 10, CIFAR-10 Batch 3:  loss: 0.630227 accuracy: 0.5712\n",
      "Epoch 10, CIFAR-10 Batch 4:  loss: 0.770073 accuracy: 0.5774\n",
      "Epoch 10, CIFAR-10 Batch 5:  loss: 0.798154 accuracy: 0.5734\n",
      "Epoch 11, CIFAR-10 Batch 1:  loss: 0.850243 accuracy: 0.5704\n",
      "Epoch 11, CIFAR-10 Batch 2:  loss: 0.708592 accuracy: 0.5874\n",
      "Epoch 11, CIFAR-10 Batch 3:  loss: 0.530089 accuracy: 0.5882\n",
      "Epoch 11, CIFAR-10 Batch 4:  loss: 0.728844 accuracy: 0.5894\n",
      "Epoch 11, CIFAR-10 Batch 5:  loss: 0.707521 accuracy: 0.5904\n",
      "Epoch 12, CIFAR-10 Batch 1:  loss: 0.763002 accuracy: 0.5884\n",
      "Epoch 12, CIFAR-10 Batch 2:  loss: 0.646293 accuracy: 0.5906\n",
      "Epoch 12, CIFAR-10 Batch 3:  loss: 0.475094 accuracy: 0.5944\n",
      "Epoch 12, CIFAR-10 Batch 4:  loss: 0.624675 accuracy: 0.5978\n",
      "Epoch 12, CIFAR-10 Batch 5:  loss: 0.643992 accuracy: 0.5988\n",
      "Epoch 13, CIFAR-10 Batch 1:  loss: 0.69776 accuracy: 0.5996\n",
      "Epoch 13, CIFAR-10 Batch 2:  loss: 0.573643 accuracy: 0.5932\n",
      "Epoch 13, CIFAR-10 Batch 3:  loss: 0.470324 accuracy: 0.6032\n",
      "Epoch 13, CIFAR-10 Batch 4:  loss: 0.564748 accuracy: 0.6074\n",
      "Epoch 13, CIFAR-10 Batch 5:  loss: 0.573328 accuracy: 0.606\n",
      "Epoch 14, CIFAR-10 Batch 1:  loss: 0.650666 accuracy: 0.5968\n",
      "Epoch 14, CIFAR-10 Batch 2:  loss: 0.47104 accuracy: 0.6054\n",
      "Epoch 14, CIFAR-10 Batch 3:  loss: 0.39962 accuracy: 0.6078\n",
      "Epoch 14, CIFAR-10 Batch 4:  loss: 0.50768 accuracy: 0.6086\n",
      "Epoch 14, CIFAR-10 Batch 5:  loss: 0.528756 accuracy: 0.6074\n",
      "Epoch 15, CIFAR-10 Batch 1:  loss: 0.556764 accuracy: 0.6076\n",
      "Epoch 15, CIFAR-10 Batch 2:  loss: 0.404322 accuracy: 0.6144\n",
      "Epoch 15, CIFAR-10 Batch 3:  loss: 0.377223 accuracy: 0.6146\n",
      "Epoch 15, CIFAR-10 Batch 4:  loss: 0.450228 accuracy: 0.6198\n",
      "Epoch 15, CIFAR-10 Batch 5:  loss: 0.409906 accuracy: 0.6092\n",
      "Epoch 16, CIFAR-10 Batch 1:  loss: 0.519488 accuracy: 0.6036\n",
      "Epoch 16, CIFAR-10 Batch 2:  loss: 0.360768 accuracy: 0.6168\n",
      "Epoch 16, CIFAR-10 Batch 3:  loss: 0.367102 accuracy: 0.6194\n",
      "Epoch 16, CIFAR-10 Batch 4:  loss: 0.428755 accuracy: 0.6246\n",
      "Epoch 16, CIFAR-10 Batch 5:  loss: 0.375658 accuracy: 0.6166\n",
      "Epoch 17, CIFAR-10 Batch 1:  loss: 0.504753 accuracy: 0.6194\n",
      "Epoch 17, CIFAR-10 Batch 2:  loss: 0.361111 accuracy: 0.613\n",
      "Epoch 17, CIFAR-10 Batch 3:  loss: 0.334674 accuracy: 0.6116\n",
      "Epoch 17, CIFAR-10 Batch 4:  loss: 0.369933 accuracy: 0.6266\n",
      "Epoch 17, CIFAR-10 Batch 5:  loss: 0.329461 accuracy: 0.6324\n",
      "Epoch 18, CIFAR-10 Batch 1:  loss: 0.408327 accuracy: 0.6224\n",
      "Epoch 18, CIFAR-10 Batch 2:  loss: 0.291458 accuracy: 0.6338\n",
      "Epoch 18, CIFAR-10 Batch 3:  loss: 0.293928 accuracy: 0.635\n",
      "Epoch 18, CIFAR-10 Batch 4:  loss: 0.289939 accuracy: 0.6378\n",
      "Epoch 18, CIFAR-10 Batch 5:  loss: 0.310865 accuracy: 0.6226\n",
      "Epoch 19, CIFAR-10 Batch 1:  loss: 0.405797 accuracy: 0.625\n",
      "Epoch 19, CIFAR-10 Batch 2:  loss: 0.307943 accuracy: 0.628\n",
      "Epoch 19, CIFAR-10 Batch 3:  loss: 0.238349 accuracy: 0.6416\n",
      "Epoch 19, CIFAR-10 Batch 4:  loss: 0.26349 accuracy: 0.6386\n",
      "Epoch 19, CIFAR-10 Batch 5:  loss: 0.242152 accuracy: 0.6414\n",
      "Epoch 20, CIFAR-10 Batch 1:  loss: 0.295059 accuracy: 0.6388\n",
      "Epoch 20, CIFAR-10 Batch 2:  loss: 0.21279 accuracy: 0.6332\n",
      "Epoch 20, CIFAR-10 Batch 3:  loss: 0.229374 accuracy: 0.644\n",
      "Epoch 20, CIFAR-10 Batch 4:  loss: 0.251588 accuracy: 0.6458\n",
      "Epoch 20, CIFAR-10 Batch 5:  loss: 0.218651 accuracy: 0.6436\n",
      "Epoch 21, CIFAR-10 Batch 1:  loss: 0.249692 accuracy: 0.6516\n",
      "Epoch 21, CIFAR-10 Batch 2:  loss: 0.215314 accuracy: 0.6466\n",
      "Epoch 21, CIFAR-10 Batch 3:  loss: 0.208835 accuracy: 0.6562\n",
      "Epoch 21, CIFAR-10 Batch 4:  loss: 0.233584 accuracy: 0.6494\n",
      "Epoch 21, CIFAR-10 Batch 5:  loss: 0.18059 accuracy: 0.6508\n",
      "Epoch 22, CIFAR-10 Batch 1:  loss: 0.281254 accuracy: 0.6462\n",
      "Epoch 22, CIFAR-10 Batch 2:  loss: 0.164459 accuracy: 0.6526\n",
      "Epoch 22, CIFAR-10 Batch 3:  loss: 0.17123 accuracy: 0.6618\n",
      "Epoch 22, CIFAR-10 Batch 4:  loss: 0.203815 accuracy: 0.6624\n",
      "Epoch 22, CIFAR-10 Batch 5:  loss: 0.172924 accuracy: 0.654\n",
      "Epoch 23, CIFAR-10 Batch 1:  loss: 0.200922 accuracy: 0.6562\n",
      "Epoch 23, CIFAR-10 Batch 2:  loss: 0.17387 accuracy: 0.656\n",
      "Epoch 23, CIFAR-10 Batch 3:  loss: 0.149388 accuracy: 0.665\n",
      "Epoch 23, CIFAR-10 Batch 4:  loss: 0.175667 accuracy: 0.661\n",
      "Epoch 23, CIFAR-10 Batch 5:  loss: 0.13998 accuracy: 0.6508\n",
      "Epoch 24, CIFAR-10 Batch 1:  loss: 0.202911 accuracy: 0.6512\n",
      "Epoch 24, CIFAR-10 Batch 2:  loss: 0.140615 accuracy: 0.6604\n",
      "Epoch 24, CIFAR-10 Batch 3:  loss: 0.128163 accuracy: 0.6726\n",
      "Epoch 24, CIFAR-10 Batch 4:  loss: 0.163822 accuracy: 0.6624\n",
      "Epoch 24, CIFAR-10 Batch 5:  loss: 0.131813 accuracy: 0.656\n",
      "Epoch 25, CIFAR-10 Batch 1:  loss: 0.160242 accuracy: 0.664\n",
      "Epoch 25, CIFAR-10 Batch 2:  loss: 0.12407 accuracy: 0.6638\n",
      "Epoch 25, CIFAR-10 Batch 3:  loss: 0.136974 accuracy: 0.6658\n",
      "Epoch 25, CIFAR-10 Batch 4:  loss: 0.162237 accuracy: 0.667\n",
      "Epoch 25, CIFAR-10 Batch 5:  loss: 0.103773 accuracy: 0.65\n",
      "Epoch 26, CIFAR-10 Batch 1:  loss: 0.150501 accuracy: 0.657\n",
      "Epoch 26, CIFAR-10 Batch 2:  loss: 0.123998 accuracy: 0.6632\n",
      "Epoch 26, CIFAR-10 Batch 3:  loss: 0.12629 accuracy: 0.6738\n",
      "Epoch 26, CIFAR-10 Batch 4:  loss: 0.128655 accuracy: 0.6748\n",
      "Epoch 26, CIFAR-10 Batch 5:  loss: 0.115287 accuracy: 0.657\n",
      "Epoch 27, CIFAR-10 Batch 1:  loss: 0.109548 accuracy: 0.6574\n",
      "Epoch 27, CIFAR-10 Batch 2:  loss: 0.0992776 accuracy: 0.6688\n",
      "Epoch 27, CIFAR-10 Batch 3:  loss: 0.100387 accuracy: 0.6788\n",
      "Epoch 27, CIFAR-10 Batch 4:  loss: 0.118095 accuracy: 0.6724\n",
      "Epoch 27, CIFAR-10 Batch 5:  loss: 0.125044 accuracy: 0.6464\n"
     ]
    },
    {
     "name": "stdout",
     "output_type": "stream",
     "text": [
      "Epoch 28, CIFAR-10 Batch 1:  loss: 0.117419 accuracy: 0.659\n",
      "Epoch 28, CIFAR-10 Batch 2:  loss: 0.108316 accuracy: 0.6648\n",
      "Epoch 28, CIFAR-10 Batch 3:  loss: 0.0895244 accuracy: 0.6764\n",
      "Epoch 28, CIFAR-10 Batch 4:  loss: 0.0987645 accuracy: 0.675\n",
      "Epoch 28, CIFAR-10 Batch 5:  loss: 0.119204 accuracy: 0.6612\n",
      "Epoch 29, CIFAR-10 Batch 1:  loss: 0.0813499 accuracy: 0.664\n",
      "Epoch 29, CIFAR-10 Batch 2:  loss: 0.0814765 accuracy: 0.6666\n",
      "Epoch 29, CIFAR-10 Batch 3:  loss: 0.079299 accuracy: 0.6766\n",
      "Epoch 29, CIFAR-10 Batch 4:  loss: 0.0914047 accuracy: 0.6768\n",
      "Epoch 29, CIFAR-10 Batch 5:  loss: 0.096403 accuracy: 0.6622\n",
      "Epoch 30, CIFAR-10 Batch 1:  loss: 0.0811063 accuracy: 0.6646\n",
      "Epoch 30, CIFAR-10 Batch 2:  loss: 0.0838149 accuracy: 0.6608\n",
      "Epoch 30, CIFAR-10 Batch 3:  loss: 0.0804869 accuracy: 0.6792\n",
      "Epoch 30, CIFAR-10 Batch 4:  loss: 0.0762945 accuracy: 0.67\n",
      "Epoch 30, CIFAR-10 Batch 5:  loss: 0.100258 accuracy: 0.6518\n",
      "Epoch 31, CIFAR-10 Batch 1:  loss: 0.0839877 accuracy: 0.6694\n",
      "Epoch 31, CIFAR-10 Batch 2:  loss: 0.0787423 accuracy: 0.6712\n",
      "Epoch 31, CIFAR-10 Batch 3:  loss: 0.0565927 accuracy: 0.6798\n",
      "Epoch 31, CIFAR-10 Batch 4:  loss: 0.0608901 accuracy: 0.6818\n",
      "Epoch 31, CIFAR-10 Batch 5:  loss: 0.0668609 accuracy: 0.6758\n",
      "Epoch 32, CIFAR-10 Batch 1:  loss: 0.0926723 accuracy: 0.6704\n",
      "Epoch 32, CIFAR-10 Batch 2:  loss: 0.0754827 accuracy: 0.6682\n",
      "Epoch 32, CIFAR-10 Batch 3:  loss: 0.0519951 accuracy: 0.6852\n",
      "Epoch 32, CIFAR-10 Batch 4:  loss: 0.0552405 accuracy: 0.6752\n",
      "Epoch 32, CIFAR-10 Batch 5:  loss: 0.0713225 accuracy: 0.6704\n",
      "Epoch 33, CIFAR-10 Batch 1:  loss: 0.0841256 accuracy: 0.6742\n",
      "Epoch 33, CIFAR-10 Batch 2:  loss: 0.0526628 accuracy: 0.6724\n",
      "Epoch 33, CIFAR-10 Batch 3:  loss: 0.0581783 accuracy: 0.6834\n",
      "Epoch 33, CIFAR-10 Batch 4:  loss: 0.0465456 accuracy: 0.6772\n",
      "Epoch 33, CIFAR-10 Batch 5:  loss: 0.075959 accuracy: 0.6646\n",
      "Epoch 34, CIFAR-10 Batch 1:  loss: 0.0828054 accuracy: 0.6758\n",
      "Epoch 34, CIFAR-10 Batch 2:  loss: 0.0508349 accuracy: 0.681\n",
      "Epoch 34, CIFAR-10 Batch 3:  loss: 0.0545529 accuracy: 0.685\n",
      "Epoch 34, CIFAR-10 Batch 4:  loss: 0.0450966 accuracy: 0.6718\n",
      "Epoch 34, CIFAR-10 Batch 5:  loss: 0.0620083 accuracy: 0.6634\n",
      "Epoch 35, CIFAR-10 Batch 1:  loss: 0.0543371 accuracy: 0.678\n",
      "Epoch 35, CIFAR-10 Batch 2:  loss: 0.0437841 accuracy: 0.6822\n",
      "Epoch 35, CIFAR-10 Batch 3:  loss: 0.0486733 accuracy: 0.6786\n",
      "Epoch 35, CIFAR-10 Batch 4:  loss: 0.0450538 accuracy: 0.677\n",
      "Epoch 35, CIFAR-10 Batch 5:  loss: 0.0495347 accuracy: 0.6704\n",
      "Epoch 36, CIFAR-10 Batch 1:  loss: 0.0587073 accuracy: 0.6668\n",
      "Epoch 36, CIFAR-10 Batch 2:  loss: 0.0461903 accuracy: 0.6766\n",
      "Epoch 36, CIFAR-10 Batch 3:  loss: 0.0426428 accuracy: 0.6784\n",
      "Epoch 36, CIFAR-10 Batch 4:  loss: 0.053021 accuracy: 0.68\n",
      "Epoch 36, CIFAR-10 Batch 5:  loss: 0.0492827 accuracy: 0.6788\n",
      "Epoch 37, CIFAR-10 Batch 1:  loss: 0.0584452 accuracy: 0.6818\n",
      "Epoch 37, CIFAR-10 Batch 2:  loss: 0.0364012 accuracy: 0.6754\n",
      "Epoch 37, CIFAR-10 Batch 3:  loss: 0.0397154 accuracy: 0.6838\n",
      "Epoch 37, CIFAR-10 Batch 4:  loss: 0.0324953 accuracy: 0.6816\n",
      "Epoch 37, CIFAR-10 Batch 5:  loss: 0.0466979 accuracy: 0.6744\n",
      "Epoch 38, CIFAR-10 Batch 1:  loss: 0.0472078 accuracy: 0.6826\n",
      "Epoch 38, CIFAR-10 Batch 2:  loss: 0.0374885 accuracy: 0.6842\n",
      "Epoch 38, CIFAR-10 Batch 3:  loss: 0.0329431 accuracy: 0.6832\n",
      "Epoch 38, CIFAR-10 Batch 4:  loss: 0.0318409 accuracy: 0.683\n",
      "Epoch 38, CIFAR-10 Batch 5:  loss: 0.0465989 accuracy: 0.667\n",
      "Epoch 39, CIFAR-10 Batch 1:  loss: 0.0361293 accuracy: 0.6784\n",
      "Epoch 39, CIFAR-10 Batch 2:  loss: 0.0322675 accuracy: 0.6844\n",
      "Epoch 39, CIFAR-10 Batch 3:  loss: 0.0300746 accuracy: 0.688\n",
      "Epoch 39, CIFAR-10 Batch 4:  loss: 0.0333645 accuracy: 0.6874\n",
      "Epoch 39, CIFAR-10 Batch 5:  loss: 0.0528047 accuracy: 0.677\n",
      "Epoch 40, CIFAR-10 Batch 1:  loss: 0.027089 accuracy: 0.6844\n",
      "Epoch 40, CIFAR-10 Batch 2:  loss: 0.0326814 accuracy: 0.6846\n",
      "Epoch 40, CIFAR-10 Batch 3:  loss: 0.0391028 accuracy: 0.6874\n",
      "Epoch 40, CIFAR-10 Batch 4:  loss: 0.0633823 accuracy: 0.6704\n",
      "Epoch 40, CIFAR-10 Batch 5:  loss: 0.0478983 accuracy: 0.679\n"
     ]
    }
   ],
   "source": [
    "\"\"\"\n",
    "DON'T MODIFY ANYTHING IN THIS CELL\n",
    "\"\"\"\n",
    "save_model_path = './image_classification'\n",
    "\n",
    "print('Training...')\n",
    "with tf.Session() as sess:\n",
    "    # Initializing the variables\n",
    "    sess.run(tf.global_variables_initializer())\n",
    "    \n",
    "    # Training cycle\n",
    "    for epoch in range(epochs):\n",
    "        # Loop over all batches\n",
    "        n_batches = 5\n",
    "        for batch_i in range(1, n_batches + 1):\n",
    "            for batch_features, batch_labels in helper.load_preprocess_training_batch(batch_i, batch_size):\n",
    "                train_neural_network(sess, optimizer, keep_probability, batch_features, batch_labels)\n",
    "            print('Epoch {:>2}, CIFAR-10 Batch {}:  '.format(epoch + 1, batch_i), end='')\n",
    "            print_stats(sess, batch_features, batch_labels, cost, accuracy)\n",
    "            \n",
    "    # Save Model\n",
    "    saver = tf.train.Saver()\n",
    "    save_path = saver.save(sess, save_model_path)"
   ]
  },
  {
   "cell_type": "markdown",
   "metadata": {},
   "source": [
    "# Checkpoint\n",
    "The model has been saved to disk.\n",
    "## Test Model\n",
    "Test your model against the test dataset.  This will be your final accuracy. You should have an accuracy greater than 50%. If you don't, keep tweaking the model architecture and parameters."
   ]
  },
  {
   "cell_type": "code",
   "execution_count": 38,
   "metadata": {},
   "outputs": [
    {
     "name": "stdout",
     "output_type": "stream",
     "text": [
      "INFO:tensorflow:Restoring parameters from ./image_classification\n",
      "Testing Accuracy: 0.68388671875\n",
      "\n"
     ]
    },
    {
     "data": {
      "image/png": "[encoded data removed]",
      "text/plain": [
       "<matplotlib.figure.Figure at 0x7f6818f81358>"
      ]
     },
     "metadata": {
      "image/png": {
       "height": 319,
       "width": 355
      }
     },
     "output_type": "display_data"
    }
   ],
   "source": [
    "\"\"\"\n",
    "DON'T MODIFY ANYTHING IN THIS CELL\n",
    "\"\"\"\n",
    "%matplotlib inline\n",
    "%config InlineBackend.figure_format = 'retina'\n",
    "\n",
    "import tensorflow as tf\n",
    "import pickle\n",
    "import helper\n",
    "import random\n",
    "\n",
    "# Set batch size if not already set\n",
    "try:\n",
    "    if batch_size:\n",
    "        pass\n",
    "except NameError:\n",
    "    batch_size = 64\n",
    "\n",
    "save_model_path = './image_classification'\n",
    "n_samples = 4\n",
    "top_n_predictions = 3\n",
    "\n",
    "def test_model():\n",
    "    \"\"\"\n",
    "    Test the saved model against the test dataset\n",
    "    \"\"\"\n",
    "\n",
    "    test_features, test_labels = pickle.load(open('preprocess_test.p', mode='rb'))\n",
    "    loaded_graph = tf.Graph()\n",
    "\n",
    "    with tf.Session(graph=loaded_graph) as sess:\n",
    "        # Load model\n",
    "        loader = tf.train.import_meta_graph(save_model_path + '.meta')\n",
    "        loader.restore(sess, save_model_path)\n",
    "\n",
    "        # Get Tensors from loaded model\n",
    "        loaded_x = loaded_graph.get_tensor_by_name('x:0')\n",
    "        loaded_y = loaded_graph.get_tensor_by_name('y:0')\n",
    "        loaded_keep_prob = loaded_graph.get_tensor_by_name('keep_prob:0')\n",
    "        loaded_logits = loaded_graph.get_tensor_by_name('logits:0')\n",
    "        loaded_acc = loaded_graph.get_tensor_by_name('accuracy:0')\n",
    "        \n",
    "        # Get accuracy in batches for memory limitations\n",
    "        test_batch_acc_total = 0\n",
    "        test_batch_count = 0\n",
    "        \n",
    "        for test_feature_batch, test_label_batch in helper.batch_features_labels(test_features, test_labels, batch_size):\n",
    "            test_batch_acc_total += sess.run(\n",
    "                loaded_acc,\n",
    "                feed_dict={loaded_x: test_feature_batch, loaded_y: test_label_batch, loaded_keep_prob: 1.0})\n",
    "            test_batch_count += 1\n",
    "\n",
    "        print('Testing Accuracy: {}\\n'.format(test_batch_acc_total/test_batch_count))\n",
    "\n",
    "        # Print Random Samples\n",
    "        random_test_features, random_test_labels = tuple(zip(*random.sample(list(zip(test_features, test_labels)), n_samples)))\n",
    "        random_test_predictions = sess.run(\n",
    "            tf.nn.top_k(tf.nn.softmax(loaded_logits), top_n_predictions),\n",
    "            feed_dict={loaded_x: random_test_features, loaded_y: random_test_labels, loaded_keep_prob: 1.0})\n",
    "        helper.display_image_predictions(random_test_features, random_test_labels, random_test_predictions)\n",
    "\n",
    "\n",
    "test_model()"
   ]
  },
  {
   "cell_type": "markdown",
   "metadata": {},
   "source": [
    "## Why 50-80% Accuracy?\n",
    "You might be wondering why you can't get an accuracy any higher. First things first, 50% isn't bad for a simple CNN.  Pure guessing would get you 10% accuracy. However, you might notice people are getting scores [well above 80%](http://rodrigob.github.io/are_we_there_yet/build/classification_datasets_results.html#43494641522d3130).  That's because we haven't taught you all there is to know about neural networks. We still need to cover a few more techniques.\n",
    "## Submitting This Project\n",
    "When submitting this project, make sure to run all the cells before saving the notebook.  Save the notebook file as \"dlnd_image_classification.ipynb\" and save it as a HTML file under \"File\" -> \"Download as\".  Include the \"helper.py\" and \"problem_unittests.py\" files in your submission."
   ]
  }
 ],
 "metadata": {
  "kernelspec": {
   "display_name": "Python 3",
   "language": "python",
   "name": "python3"
  },
  "language_info": {
   "codemirror_mode": {
    "name": "ipython",
    "version": 3
   },
   "file_extension": ".py",
   "mimetype": "text/x-python",
   "name": "python",
   "nbconvert_exporter": "python",
   "pygments_lexer": "ipython3",
   "version": "3.5.3"
  }
 },
 "nbformat": 4,
 "nbformat_minor": 1
}
